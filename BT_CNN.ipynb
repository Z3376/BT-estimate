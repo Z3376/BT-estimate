{
  "nbformat": 4,
  "nbformat_minor": 0,
  "metadata": {
    "colab": {
      "name": "BT_CNN.ipynb",
      "provenance": [],
      "collapsed_sections": [
        "HoXoFs1rdkIT",
        "ASmiBeoZnp2K",
        "x6lsgRMdoXTg",
        "3A07WHvU-wMm",
        "CiO9SOmLEtKN",
        "yOmVDr6fuCaH",
        "xSBGnorJyngn",
        "9Uancg7typUP"
      ],
      "toc_visible": true,
      "include_colab_link": true
    },
    "kernelspec": {
      "name": "python3",
      "display_name": "Python 3"
    },
    "accelerator": "GPU"
  },
  "cells": [
    {
      "cell_type": "markdown",
      "metadata": {
        "id": "view-in-github",
        "colab_type": "text"
      },
      "source": [
        "<a href=\"https://colab.research.google.com/github/Z3376/BT-estimate/blob/master/BT_CNN.ipynb\" target=\"_parent\"><img src=\"https://colab.research.google.com/assets/colab-badge.svg\" alt=\"Open In Colab\"/></a>"
      ]
    },
    {
      "cell_type": "code",
      "metadata": {
        "id": "ZPFtUZBrneHf",
        "colab_type": "code",
        "colab": {}
      },
      "source": [
        "from google.colab import drive\n",
        "drive.mount('./gdrive')"
      ],
      "execution_count": 0,
      "outputs": []
    },
    {
      "cell_type": "markdown",
      "metadata": {
        "id": "HoXoFs1rdkIT",
        "colab_type": "text"
      },
      "source": [
        "# Terminal"
      ]
    },
    {
      "cell_type": "code",
      "metadata": {
        "id": "Ix1GN76SqHxD",
        "colab_type": "code",
        "colab": {}
      },
      "source": [
        "%%bash\n",
        "pip install livelossplot\n",
        "pip install keras==2.2.4\n",
        "# pip install nose\n",
        "# git clone 'https://github.com/tscohen/GrouPy.git'\n",
        "# mv ./GrouPy/* .\n",
        "# python setup.py install"
      ],
      "execution_count": 0,
      "outputs": []
    },
    {
      "cell_type": "markdown",
      "metadata": {
        "id": "ASmiBeoZnp2K",
        "colab_type": "text"
      },
      "source": [
        "# Import"
      ]
    },
    {
      "cell_type": "code",
      "metadata": {
        "id": "AOPHfWNRnnCD",
        "colab_type": "code",
        "colab": {}
      },
      "source": [
        "import numpy as np\n",
        "import pandas as pd\n",
        "import os\n",
        "import subprocess\n",
        "import keras\n",
        "import tensorflow as tf\n",
        "from livelossplot import PlotLossesKeras\n",
        "import matplotlib.pyplot as plt\n",
        "from keras.preprocessing import image\n",
        "from sklearn.metrics import confusion_matrix\n",
        "from tqdm import tqdm\n",
        "import seaborn as sns\n",
        "from scipy import stats\n",
        "import random\n",
        "# from groupy.gconv.tensorflow_gconv.splitgconv2d import gconv2d, gconv2d_util"
      ],
      "execution_count": 0,
      "outputs": []
    },
    {
      "cell_type": "markdown",
      "metadata": {
        "id": "x6lsgRMdoXTg",
        "colab_type": "text"
      },
      "source": [
        "#Data"
      ]
    },
    {
      "cell_type": "code",
      "metadata": {
        "id": "1z8NeHZz_7AE",
        "colab_type": "code",
        "colab": {}
      },
      "source": [
        "def bt(im_name):\n",
        "    return float(im_name.split('_')[-1])"
      ],
      "execution_count": 0,
      "outputs": []
    },
    {
      "cell_type": "code",
      "metadata": {
        "id": "HWQxosM8zZmU",
        "colab_type": "code",
        "colab": {}
      },
      "source": [
        "def rad(im_name):\n",
        "    return float(im_name.split('_')[-3])"
      ],
      "execution_count": 0,
      "outputs": []
    },
    {
      "cell_type": "code",
      "metadata": {
        "id": "9Z8nQDLIppkK",
        "colab_type": "code",
        "colab": {}
      },
      "source": [
        "def bt_categorical(im_name):\n",
        "    return str(int(float(im_name.split('_')[-1])*10))"
      ],
      "execution_count": 0,
      "outputs": []
    },
    {
      "cell_type": "code",
      "metadata": {
        "id": "XmYSxwRLPJWW",
        "colab_type": "code",
        "colab": {}
      },
      "source": [
        "if(not(os.path.isdir('./img'))):\n",
        "    !unzip './gdrive/My Drive/img_highres.zip'"
      ],
      "execution_count": 0,
      "outputs": []
    },
    {
      "cell_type": "code",
      "metadata": {
        "id": "GP-G2RpEqai3",
        "colab_type": "code",
        "colab": {}
      },
      "source": [
        "img_folder = '/content/img'"
      ],
      "execution_count": 0,
      "outputs": []
    },
    {
      "cell_type": "code",
      "metadata": {
        "id": "oukbIgN3577P",
        "colab_type": "code",
        "colab": {}
      },
      "source": [
        "p = subprocess.Popen(['ls',img_folder],stdout=subprocess.PIPE)\n",
        "ls = str(p.communicate()[0],'utf-8').split('.jpg\\n')[:-1]"
      ],
      "execution_count": 0,
      "outputs": []
    },
    {
      "cell_type": "code",
      "metadata": {
        "id": "qdab51FtgUXf",
        "colab_type": "code",
        "colab": {}
      },
      "source": [
        "print(len(ls))"
      ],
      "execution_count": 0,
      "outputs": []
    },
    {
      "cell_type": "code",
      "metadata": {
        "id": "5qHjHr_EMUPO",
        "colab_type": "code",
        "colab": {}
      },
      "source": [
        "test_ls = ls[-5000:]\n",
        "ls = ls[:-5000]"
      ],
      "execution_count": 0,
      "outputs": []
    },
    {
      "cell_type": "code",
      "metadata": {
        "id": "P0xOxTR79xCI",
        "colab_type": "code",
        "colab": {}
      },
      "source": [
        "i = 0\n",
        "while(i<len(ls)):\n",
        "    try:\n",
        "        if(ls[i][-1]==')'):\n",
        "            ls.pop(i)\n",
        "            i-=1\n",
        "        elif(os.path.getsize(img_folder+'/'+ls[i]+'.jpg')==0):\n",
        "            ls.pop(i)\n",
        "            i-=1 \n",
        "    except:\n",
        "        print(i)\n",
        "    i+=1"
      ],
      "execution_count": 0,
      "outputs": []
    },
    {
      "cell_type": "code",
      "metadata": {
        "id": "Il9-n09k9k6h",
        "colab_type": "code",
        "colab": {}
      },
      "source": [
        "ln = len(ls)\n",
        "print(len(ls))"
      ],
      "execution_count": 0,
      "outputs": []
    },
    {
      "cell_type": "code",
      "metadata": {
        "id": "ADixMDS8qHWM",
        "colab_type": "code",
        "colab": {}
      },
      "source": [
        "label = [[ls[i]+'.jpg',bt(ls[i])] for i in range(ln)]"
      ],
      "execution_count": 0,
      "outputs": []
    },
    {
      "cell_type": "code",
      "metadata": {
        "id": "ex8b5Gvgrto1",
        "colab_type": "code",
        "colab": {}
      },
      "source": [
        "label_df = pd.DataFrame(label)\n",
        "label_df.columns = ['id','bt']"
      ],
      "execution_count": 0,
      "outputs": []
    },
    {
      "cell_type": "code",
      "metadata": {
        "id": "7OUmyTSk9Nnk",
        "colab_type": "code",
        "colab": {}
      },
      "source": [
        "label_df = label_df[label_df.bt!=1]\n",
        "label_df = label_df[label_df.bt!=0]\n",
        "ln = len(label_df)"
      ],
      "execution_count": 0,
      "outputs": []
    },
    {
      "cell_type": "code",
      "metadata": {
        "id": "IsXqRb1Kd1dC",
        "colab_type": "code",
        "colab": {}
      },
      "source": [
        "train_label_df = label_df[:-5000]\n",
        "val_label_df = label_df[-5000:]"
      ],
      "execution_count": 0,
      "outputs": []
    },
    {
      "cell_type": "markdown",
      "metadata": {
        "id": "3A07WHvU-wMm",
        "colab_type": "text"
      },
      "source": [
        "# Distribution"
      ]
    },
    {
      "cell_type": "code",
      "metadata": {
        "id": "M8lO45k9-yaR",
        "colab_type": "code",
        "colab": {}
      },
      "source": [
        "dist = [0 for i in range(11)]\n",
        "for i in range(len(train_label_df)):\n",
        "#     ind = 9 if int(label_df.bt.iloc[i]*10)==10 else int(label_df.bt.iloc[i]*10)\n",
        "    ind = int(train_label_df.bt[i]*10)\n",
        "    dist[ind]+=1"
      ],
      "execution_count": 0,
      "outputs": []
    },
    {
      "cell_type": "code",
      "metadata": {
        "id": "0GPHuf4P_Tx9",
        "colab_type": "code",
        "colab": {}
      },
      "source": [
        "plt.plot([i/10. for i in range(11)],dist)\n",
        "plt.show()"
      ],
      "execution_count": 0,
      "outputs": []
    },
    {
      "cell_type": "markdown",
      "metadata": {
        "id": "CiO9SOmLEtKN",
        "colab_type": "text"
      },
      "source": [
        "# Generator"
      ]
    },
    {
      "cell_type": "code",
      "metadata": {
        "id": "1nnvmFJ8_I1l",
        "colab_type": "code",
        "colab": {}
      },
      "source": [
        "batch_size = 128\n",
        "im_size = 128"
      ],
      "execution_count": 0,
      "outputs": []
    },
    {
      "cell_type": "code",
      "metadata": {
        "id": "hJtzsGNWbqjT",
        "colab_type": "code",
        "colab": {}
      },
      "source": [
        "train_datagen = keras.preprocessing.image.ImageDataGenerator(rescale = 1./255, \n",
        "                                                             horizontal_flip = True,\n",
        "                                                             vertical_flip = True, \n",
        "                                                             fill_mode = \"constant\",\n",
        "                                                             cval = 0,\n",
        "                                                             rotation_range=360) \n",
        "train_generator = train_datagen.flow_from_dataframe(dataframe = train_label_df, \n",
        "                                                    directory = img_folder, \n",
        "                                                    x_col = \"id\",\n",
        "                                                    y_col = \"bt\",\n",
        "                                                    has_ext = True, \n",
        "                                                    class_mode = \"other\",\n",
        "                                                    target_size = (im_size,im_size), \n",
        "                                                    batch_size = batch_size)"
      ],
      "execution_count": 0,
      "outputs": []
    },
    {
      "cell_type": "code",
      "metadata": {
        "id": "s0hVglhtegic",
        "colab_type": "code",
        "colab": {}
      },
      "source": [
        "val_datagen = keras.preprocessing.image.ImageDataGenerator(rescale=1./255)\n",
        "val_generator = val_datagen.flow_from_dataframe(dataframe=val_label_df,\n",
        "                                                  directory=img_folder,\n",
        "                                                  x_col=\"id\", y_col=\"bt\",\n",
        "                                                  has_ext=True,\n",
        "                                                  class_mode=\"other\",\n",
        "                                                  target_size=(im_size,im_size),\n",
        "                                                  batch_size=batch_size)"
      ],
      "execution_count": 0,
      "outputs": []
    },
    {
      "cell_type": "code",
      "metadata": {
        "id": "jnn0N4OQEwTr",
        "colab_type": "code",
        "colab": {}
      },
      "source": [
        "# def mask_img(img_arr,shape,mask,mask_p,return_image=True):\n",
        "#     h,w,_ = shape\n",
        "#     for j in range((h//2)-mask_p,(h//2)+mask_p):\n",
        "#         mask[j][(w//2)-mask_p:(w//2)+mask_p] = 1\n",
        "#     if(return_image):\n",
        "#         img = image.array_to_img(img_arr*mask)\n",
        "#     else:\n",
        "#         img = img_arr*mask\n",
        "#     return img"
      ],
      "execution_count": 0,
      "outputs": []
    },
    {
      "cell_type": "code",
      "metadata": {
        "id": "Lx1B0vioBjB-",
        "colab_type": "code",
        "colab": {}
      },
      "source": [
        "# def masked_generator(generator=train_generator,mask1_p=16,mask2_p=32):\n",
        "#     while(True):\n",
        "#         X,Y = generator.next()\n",
        "#         shape = X[0].shape\n",
        "#         mask = np.zeros_like(X[0])\n",
        "#         func1 = lambda x:mask_img(x,shape,mask,mask1_p,return_image=False)\n",
        "#         func2 = lambda x:mask_img(x,shape,mask,mask2_p,return_image=False)\n",
        "#         X1 = func1(X)\n",
        "#         X2 = func2(X)\n",
        "#         yield ([X,X2,X1],Y)"
      ],
      "execution_count": 0,
      "outputs": []
    },
    {
      "cell_type": "code",
      "metadata": {
        "id": "jd1NtcQ9vH4N",
        "colab_type": "code",
        "colab": {}
      },
      "source": [
        "def single_band_generator(generator=train_generator,band='r'):\n",
        "    dic = {'i':0,'r':1,'g':2}\n",
        "    while(True):\n",
        "        X,Y = generator.next()\n",
        "        shape = X[0].shape\n",
        "        X = X[:,:,:,dic[band]]\n",
        "        X = np.expand_dims(X,axis=-1)\n",
        "        X = np.tile(X,[1,1,1,3])\n",
        "        yield (X,Y)"
      ],
      "execution_count": 0,
      "outputs": []
    },
    {
      "cell_type": "code",
      "metadata": {
        "id": "0cLj4lBthFTc",
        "colab_type": "code",
        "colab": {}
      },
      "source": [
        "X,Y = next(train_generator)\n",
        "t_ind = random.sample(range(batch_size),8)\n",
        "for i in range(len(t_ind)):\n",
        "    fig = plt.figure()\n",
        "    plt.imshow(X[t_ind[i]])\n",
        "    # fig.savefig('single_band_'+str(i)+'.jpg')\n",
        "    plt.show()\n",
        "    print(Y[t_ind[i]])"
      ],
      "execution_count": 0,
      "outputs": []
    },
    {
      "cell_type": "markdown",
      "metadata": {
        "id": "yOmVDr6fuCaH",
        "colab_type": "text"
      },
      "source": [
        "#Model"
      ]
    },
    {
      "cell_type": "code",
      "metadata": {
        "id": "aIJY205gxs3L",
        "colab_type": "code",
        "colab": {}
      },
      "source": [
        "def get_model(im_size=128):\n",
        "    inpt = keras.layers.Input((im_size,im_size,3))\n",
        "    base_model = keras.applications.Xception(input_tensor=inpt,weights='imagenet',include_top=False,pooling='avg')\n",
        "    x = base_model.output\n",
        "\n",
        "    out = keras.layers.Dense(1,activation='sigmoid')(x)\n",
        "    model3 = keras.models.Model(inpt,out)\n",
        "\n",
        "    return model3"
      ],
      "execution_count": 0,
      "outputs": []
    },
    {
      "cell_type": "code",
      "metadata": {
        "id": "qxApv-po0Lkr",
        "colab_type": "code",
        "colab": {}
      },
      "source": [
        "# def get_mask_tensor(shape,mask,mask_p):\n",
        "#     h,w,_ = shape\n",
        "#     for j in range((h//2)-mask_p,(h//2)+mask_p):\n",
        "#         mask[j][(w//2)-mask_p:(w//2)+mask_p] = 1\n",
        "#     mask = tf.convert_to_tensor(mask)\n",
        "#     return mask"
      ],
      "execution_count": 0,
      "outputs": []
    },
    {
      "cell_type": "code",
      "metadata": {
        "id": "lt7paCcJuEKu",
        "colab_type": "code",
        "colab": {}
      },
      "source": [
        "# class gconv2d_start(keras.layers.Layer):\n",
        "#     def __init__(self,output_channels,f,**kwargs):\n",
        "#         self.n_c = output_channels\n",
        "#         self.f = f\n",
        "#         super(gconv2d_start,self).__init__(**kwargs)\n",
        "#     def build(self,input_shape):\n",
        "#         self.gconv_indices, self.gconv_shape_info, self.w_shape = gconv2d_util(h_input='Z2',\n",
        "#                                                                         h_output='D4',\n",
        "#                                                                         in_channels=input_shape[-1],\n",
        "#                                                                         out_channels=self.n_c,\n",
        "#                                                                         ksize=self.f)\n",
        "#         self.kernel = self.add_weight(name='kernel',\n",
        "#                                       shape=self.w_shape,\n",
        "#                                       initializer='he_normal',\n",
        "#                                       trainable=True)\n",
        "#         super(gconv2d_start, self).build(input_shape)\n",
        "#         print(input_shape[0],self.n_c,*input_shape[1:3])\n",
        "#     def call(self, x):\n",
        "#         print('x:',x.shape)\n",
        "#         y = gconv2d(x,self.kernel,strides=[1,1,1,1],padding='SAME',gconv_indices=self.gconv_indices, gconv_shape_info=self.gconv_shape_info)\n",
        "#         return y\n",
        "#     def compute_output_shape(self, input_shape):\n",
        "#         return (input_shape[0],self.n_c,*input_shape[1:3])"
      ],
      "execution_count": 0,
      "outputs": []
    },
    {
      "cell_type": "code",
      "metadata": {
        "id": "RbHpI1zvUF9P",
        "colab_type": "code",
        "colab": {}
      },
      "source": [
        "# class gconv2d_mid(keras.layers.Layer):\n",
        "#     def __init__(self,output_channels,f,**kwargs):\n",
        "#         self.n_c = output_channels\n",
        "#         self.f = f\n",
        "#         super(gconv2d_mid,self).__init__(**kwargs)\n",
        "#     def build(self,input_shape):\n",
        "#         print(input_shape)\n",
        "#         self.gconv_indices, self.gconv_shape_info, self.w_shape = gconv2d_util(h_input='D4',\n",
        "#                                                                         h_output='D4',\n",
        "#                                                                         in_channels=input_shape[1],\n",
        "#                                                                         out_channels=self.n_c,\n",
        "#                                                                         ksize=self.f)\n",
        "#         # print(self.gconv_shape_info)\n",
        "#         self.kernel = self.add_weight(name='kernel',\n",
        "#                                       shape=self.w_shape,\n",
        "#                                       initializer='he_normal',\n",
        "#                                       trainable=True)\n",
        "#         super(gconv2d_mid, self).build(input_shape)\n",
        "#     def call(self, x):\n",
        "#         y = gconv2d(x,self.kernel,strides=[1,1,1,1],padding='SAME',gconv_indices=self.gconv_indices, gconv_shape_info=self.gconv_shape_info)\n",
        "#         return y\n",
        "#     def compute_output_shape(self, input_shape):\n",
        "#         return (input_shape[0],self.n_c,*input_shape[2:])"
      ],
      "execution_count": 0,
      "outputs": []
    },
    {
      "cell_type": "code",
      "metadata": {
        "id": "v3bKAqvaP7Pa",
        "colab_type": "code",
        "colab": {}
      },
      "source": [
        "# gconv_indices, gconv_shape_info, w_shape = gconv2d_util(h_input='Z2', \n",
        "#                                                             h_output='C4', \n",
        "#                                                             in_channels=n_C[layer], \n",
        "#                                                             out_channels=n_C[layer+1], \n",
        "#                                                             ksize=f[layer])\n",
        "# W.append(tf.get_variable('W'+str(layer),w_shape,initializer=tf.contrib.layers.xavier_initializer()))\n",
        "# Z1 = gconv2d(X,W[layer],strides=[1,1,1,1],padding='SAME',gconv_indices=gconv_indices, gconv_shape_info=gconv_shape_info)\n",
        "# A1 = tf.nn.relu(Z1)"
      ],
      "execution_count": 0,
      "outputs": []
    },
    {
      "cell_type": "code",
      "metadata": {
        "id": "wuzUJU3s77S5",
        "colab_type": "code",
        "colab": {}
      },
      "source": [
        "# keras.backend.clear_session()"
      ],
      "execution_count": 0,
      "outputs": []
    },
    {
      "cell_type": "code",
      "metadata": {
        "id": "p_wJfStE7Tcj",
        "colab_type": "code",
        "colab": {}
      },
      "source": [
        "# base_model = keras.applications.Xception(weights='imagenet',include_top=False,pooling='max')\n",
        "# inpt = keras.layers.Input((im_size,im_size,3))\n",
        "# r = keras.layers.Conv2D(1,(1,1),activation='relu')(inpt)\n",
        "# r = keras.layers.Flatten()(r)\n",
        "# r = keras.layers.Dense(1,activation='sigmoid')(r)\n",
        "# att = keras.layers.Lambda(lambda ls:mask_layer(ls))([inpt,r])\n",
        "# x = base_model(att)\n",
        "\n",
        "# out = keras.layers.Dense(1,activation='sigmoid')(x)\n",
        "# model3 = keras.models.Model([inpt,inpt1,inpt2],out)"
      ],
      "execution_count": 0,
      "outputs": []
    },
    {
      "cell_type": "code",
      "metadata": {
        "id": "fe1a4jZzuDce",
        "colab_type": "code",
        "colab": {}
      },
      "source": [
        "# inpt = keras.layers.Input((im_size,im_size,3))\n",
        "# x = gconv2d_start(output_channels=32,f=5)(inpt)\n",
        "# # x = keras.layers.MaxPooling2D((2,2))(x)\n",
        "# x = gconv2d_mid(64,3)(x)\n",
        "# # x = keras.layers.MaxPooling2D((2,2))(x)\n",
        "# x = gconv2d_mid(128,3)(x)\n",
        "# # x = keras.layers.MaxPooling2D((2,2))(x)\n",
        "# fc = keras.layers.Flatten()(x)\n",
        "# out = keras.layers.Dense(1,activation='sigmoid')(fc)\n",
        "# model = keras.models.Model(inpt,out)"
      ],
      "execution_count": 0,
      "outputs": []
    },
    {
      "cell_type": "code",
      "metadata": {
        "id": "jQzWWMpr6w1f",
        "colab_type": "code",
        "colab": {}
      },
      "source": [
        "# model.summary()"
      ],
      "execution_count": 0,
      "outputs": []
    },
    {
      "cell_type": "code",
      "metadata": {
        "id": "cjyxCyYbtLe7",
        "colab_type": "code",
        "colab": {}
      },
      "source": [
        "# inpt = keras.layers.Input((im_size,im_size,3))\n",
        "# conv = keras.layers.Conv2D(128,(5,5),activation='relu',padding='same')(inpt)\n",
        "# conv = keras.layers.Conv2D(128,(5,5),activation='relu',padding='same')(conv)\n",
        "# mp = keras.layers.MaxPooling2D((2,2))(conv)\n",
        "# conv = keras.layers.Conv2D(256,(3,3),activation='relu',padding='same')(mp)\n",
        "# conv = keras.layers.Conv2D(256,(3,3),activation='relu',padding='same')(conv)\n",
        "# mp = keras.layers.MaxPooling2D((2,2))(conv)\n",
        "# conv = keras.layers.Conv2D(512,(3,3),activation='relu',padding='same')(mp)\n",
        "# conv = keras.layers.Conv2D(512,(3,3),activation='relu',padding='same')(conv)\n",
        "# mp = keras.layers.MaxPooling2D((2,2))(conv)\n",
        "# fc = keras.layers.Flatten()(mp)\n",
        "\n",
        "# att = keras.layers.Dense(1,activation='tanh',name='att1')(mp)\n",
        "# att = keras.layers.Flatten(name='att2')(att)\n",
        "# att = keras.layers.Dense(16*16,activation='softmax',name='att3')(att)\n",
        "\n",
        "# att_out = keras.layers.Reshape((16,16))(att)\n",
        "# # att_out = keras.layers.Lambda(lambda x: tf.tile(x,[1,8,8]))(att_out)\n",
        "# attention = keras.models.Model(inpt,att_out)\n",
        "\n",
        "# att = keras.layers.Lambda(lambda x: tf.tile(x,[1,512]),name='att4')(att)\n",
        "# att_fc = keras.layers.Multiply(name='att5')([fc,att])\n",
        "\n",
        "# out = keras.layers.Dense(1,activation='sigmoid')(att_fc)\n",
        "# model = keras.models.Model(inpt,out)\n",
        "\n",
        "# # attention = keras.models.Model(inpt,att_fc)"
      ],
      "execution_count": 0,
      "outputs": []
    },
    {
      "cell_type": "code",
      "metadata": {
        "id": "rYNZOa3ttOZE",
        "colab_type": "code",
        "colab": {}
      },
      "source": [
        "# att_model.summary()"
      ],
      "execution_count": 0,
      "outputs": []
    },
    {
      "cell_type": "code",
      "metadata": {
        "id": "gRZyweP3GW5_",
        "colab_type": "code",
        "colab": {}
      },
      "source": [
        "# attention.summary()"
      ],
      "execution_count": 0,
      "outputs": []
    },
    {
      "cell_type": "code",
      "metadata": {
        "id": "x4SijsHjvsAl",
        "colab_type": "code",
        "colab": {}
      },
      "source": [
        "# model3.summary()"
      ],
      "execution_count": 0,
      "outputs": []
    },
    {
      "cell_type": "code",
      "metadata": {
        "id": "9YOt4lgsvtPg",
        "colab_type": "code",
        "colab": {}
      },
      "source": [
        "# keras.utils.plot_model(model3,'BT_CNN.png')"
      ],
      "execution_count": 0,
      "outputs": []
    },
    {
      "cell_type": "markdown",
      "metadata": {
        "id": "uADUhSCygIas",
        "colab_type": "text"
      },
      "source": [
        "# Training"
      ]
    },
    {
      "cell_type": "markdown",
      "metadata": {
        "id": "xSBGnorJyngn",
        "colab_type": "text"
      },
      "source": [
        "## Losses"
      ]
    },
    {
      "cell_type": "code",
      "metadata": {
        "id": "u-v9Vq3akc-Z",
        "colab_type": "code",
        "colab": {}
      },
      "source": [
        "def exp_MAE(y_true,y_pred):\n",
        "    return(keras.backend.exp(1+keras.backend.abs(y_true-y_pred))-1)"
      ],
      "execution_count": 0,
      "outputs": []
    },
    {
      "cell_type": "code",
      "metadata": {
        "id": "fKNWNoZ3Pst3",
        "colab_type": "code",
        "colab": {}
      },
      "source": [
        "def RMSE(y_true,y_pred):\n",
        "    return(keras.backend.sqrt(keras.backend.mean(keras.backend.square(y_true-y_pred))))"
      ],
      "execution_count": 0,
      "outputs": []
    },
    {
      "cell_type": "code",
      "metadata": {
        "id": "Zh73TIpRyKSp",
        "colab_type": "code",
        "colab": {}
      },
      "source": [
        "def RMAE(y_true,y_pred):\n",
        "    return(keras.backend.sqrt(keras.backend.mean(keras.backend.abs(y_true-y_pred))))"
      ],
      "execution_count": 0,
      "outputs": []
    },
    {
      "cell_type": "code",
      "metadata": {
        "id": "Xf1O4snBm-3p",
        "colab_type": "code",
        "colab": {}
      },
      "source": [
        "def frac_err(y_true,y_pred):\n",
        "    if(y_true!=0):\n",
        "        return(keras.backend.abs((y_true-y_pred)/(y_true)))\n",
        "    else:\n",
        "        return(keras.backend.abs((y_true-y_pred)))"
      ],
      "execution_count": 0,
      "outputs": []
    },
    {
      "cell_type": "code",
      "metadata": {
        "id": "YHh-SPIxG8dl",
        "colab_type": "code",
        "colab": {}
      },
      "source": [
        "def frac_err1(y_true,y_pred):\n",
        "    return(keras.backend.sqrt((keras.backend.mean(keras.backend.abs((y_true-y_pred)/(y_true+0.5))))))"
      ],
      "execution_count": 0,
      "outputs": []
    },
    {
      "cell_type": "code",
      "metadata": {
        "id": "X0mbr3IxG9AU",
        "colab_type": "code",
        "colab": {}
      },
      "source": [
        "def frac_err2(y_true,y_pred):\n",
        "    return(keras.backend.sqrt((keras.backend.mean(keras.backend.abs((y_true-y_pred)/(y_true+0.1))))))"
      ],
      "execution_count": 0,
      "outputs": []
    },
    {
      "cell_type": "code",
      "metadata": {
        "id": "rPB5V_vp8bHD",
        "colab_type": "code",
        "colab": {}
      },
      "source": [
        "def frac_err_bi(y_true,y_pred):\n",
        "    return(keras.backend.mean(keras.backend.abs(y_true-y_pred)/(y_true*(1-y_true))))"
      ],
      "execution_count": 0,
      "outputs": []
    },
    {
      "cell_type": "code",
      "metadata": {
        "id": "fVt1FcUbVBRC",
        "colab_type": "code",
        "colab": {}
      },
      "source": [
        "def huber_loss(y_true, y_pred):\n",
        "\n",
        "    clip_delta = 1.0\n",
        "\n",
        "    error = y_true - y_pred\n",
        "    cond  = tf.keras.backend.abs(error) < clip_delta\n",
        "\n",
        "    squared_loss = 0.5 * tf.keras.backend.square(error)\n",
        "    linear_loss  = clip_delta * (tf.keras.backend.abs(error) - 0.5 * clip_delta)\n",
        "\n",
        "    return tf.where(cond, squared_loss, linear_loss)"
      ],
      "execution_count": 0,
      "outputs": []
    },
    {
      "cell_type": "markdown",
      "metadata": {
        "id": "9Uancg7typUP",
        "colab_type": "text"
      },
      "source": [
        "## Optimizer"
      ]
    },
    {
      "cell_type": "code",
      "metadata": {
        "id": "uXuMmUdPLJxZ",
        "colab_type": "code",
        "colab": {}
      },
      "source": [
        "# adam = keras.optimizers.Adam(lr=3e-5)\n",
        "adam = keras.optimizers.Adam(lr=5e-4)\n",
        "# adam = keras.optimizers.Adam(lr=1e-3)"
      ],
      "execution_count": 0,
      "outputs": []
    },
    {
      "cell_type": "markdown",
      "metadata": {
        "id": "ycC75GQryrVl",
        "colab_type": "text"
      },
      "source": [
        "## Train"
      ]
    },
    {
      "cell_type": "code",
      "metadata": {
        "id": "YJPJ2lsMysj2",
        "colab_type": "code",
        "colab": {}
      },
      "source": [
        "model = get_model()"
      ],
      "execution_count": 0,
      "outputs": []
    },
    {
      "cell_type": "code",
      "metadata": {
        "id": "N4-JqyFIywCJ",
        "colab_type": "code",
        "colab": {}
      },
      "source": [
        "# model.summary()"
      ],
      "execution_count": 0,
      "outputs": []
    },
    {
      "cell_type": "code",
      "metadata": {
        "id": "5tMM2WSsCSpd",
        "colab_type": "code",
        "colab": {}
      },
      "source": [
        "# model.load_weights('./gdrive/My Drive/accnt.3/bt_cnn_cp.h5')"
      ],
      "execution_count": 0,
      "outputs": []
    },
    {
      "cell_type": "code",
      "metadata": {
        "id": "4wY4D96FffOn",
        "colab_type": "code",
        "colab": {}
      },
      "source": [
        "model.compile(optimizer=adam,loss='MAE',metrics=['MSE'])\n",
        "\n",
        "csv = keras.callbacks.CSVLogger('./gdrive/My Drive/accnt.3/bt_cnn.csv')\n",
        "es = keras.callbacks.EarlyStopping(monitor='val_loss',patience=20,restore_best_weights=True,verbose=1)\n",
        "cp = keras.callbacks.ModelCheckpoint('./gdrive/My Drive/accnt.3/bt_cnn_cp.h5',monitor='val_loss',save_best_only=True)\n",
        "\n",
        "history = model.fit_generator(train_generator,\n",
        "                               steps_per_epoch=(len(train_label_df)//batch_size),\n",
        "                               epochs=40,\n",
        "                               validation_data=val_generator,\n",
        "                               validation_steps=5000//batch_size,\n",
        "                               callbacks=[es,cp,csv,PlotLossesKeras()])"
      ],
      "execution_count": 0,
      "outputs": []
    },
    {
      "cell_type": "code",
      "metadata": {
        "id": "NseGOUbIfZIS",
        "colab_type": "code",
        "colab": {}
      },
      "source": [
        "model.save_weights('bt_cnn.h5')"
      ],
      "execution_count": 0,
      "outputs": []
    },
    {
      "cell_type": "code",
      "metadata": {
        "id": "GMq-JyIfl-F9",
        "colab_type": "code",
        "colab": {}
      },
      "source": [
        "log = pd.read_csv('./gdrive/My Drive/accnt.3/bt_cnn.csv')\n",
        "plt.figure()\n",
        "plt.plot(log['loss'])\n",
        "plt.plot(log['val_loss'])\n",
        "plt.grid(alpha=0.2)\n",
        "plt.show()"
      ],
      "execution_count": 0,
      "outputs": []
    },
    {
      "cell_type": "code",
      "metadata": {
        "id": "um6UNCyaOXAU",
        "colab_type": "code",
        "colab": {}
      },
      "source": [
        ""
      ],
      "execution_count": 0,
      "outputs": []
    }
  ]
}